{
 "cells": [
  {
   "cell_type": "markdown",
   "id": "a6131590-401c-4b1b-9057-1a1b83278390",
   "metadata": {},
   "source": [
    "## Trying pmc_id_converter\n",
    "\n",
    "> \"pmc_id_converter for ID converter between PMID, PMCID and DOI\"\n",
    "\n",
    "Here the demonstration of this package is done in temporary sessions served via the MyBinder service, and so if you make anything useful save it back to your local machine ASAP.\n",
    "\n",
    "The package is already installed in sessions that come up if you launched from [here](https://github.com/fomightez/pmc_id_converter_demo-binder). Otherwise, you'd want to run `%pip install pmc-id-converter` in your Jupyter Notebook file."
   ]
  },
  {
   "cell_type": "markdown",
   "id": "14da8d15-c46c-4302-ae6a-70d9fbfec254",
   "metadata": {},
   "source": [
    "--------\n",
    "\n",
    "# Use `pmc_id_converter` via Command Line interface\n",
    "\n",
    "NOTE: \n",
    "In these demonstrations the exclamation point is used to send commands to the command line. You would not not need this in the terminal/console. **In other words, in most cases you'll want to actually delete the exclamation point shown at the start of these commands to use on the REAL command line.**\n",
    "\n",
    "Running `pmc_idconv --help` shows you several command examples and options for usage"
   ]
  },
  {
   "cell_type": "code",
   "execution_count": 1,
   "id": "4d8146ef-5884-436c-b15a-a57cb43fc5d0",
   "metadata": {},
   "outputs": [
    {
     "name": "stdout",
     "output_type": "stream",
     "text": [
      "Usage: pmc_idconv [OPTIONS] [IDS]...\n",
      "\n",
      "  \u001b[36m\u001b[1m\u001b[3mID converter between PMID, PMCID and DOI\u001b[0m\n",
      "\n",
      "Options:\n",
      "  --version           Show the version and exit.\n",
      "  -o, --outfile TEXT  the output filename [stdout]\n",
      "  -h, -?, --help      Show this message and exit.\n",
      "\n",
      "  \u001b[32m\n",
      "\n",
      "  Examples:\n",
      "      pmc_idconv --help\n",
      "      pmc_idconv 30003000                     [PMID]\n",
      "      pmc_idconv PMC6039336                   [PMCID]\n",
      "      pmc_idconv 10.1007/s13205-018-1330-z    [DOI]\n",
      "      pmc_idconv 30003000 30003001 30003002   [BATCH]\n",
      "      pmc_idconv 30003000 30003001 -o out.jl  [FILE]  \n",
      "\n",
      "  \u001b[97m\u001b[3mContact: suqingdong <suqingdong1114@gmail.com>\u001b[0m \u001b[0m\n"
     ]
    }
   ],
   "source": [
    "!pmc_idconv --help"
   ]
  },
  {
   "cell_type": "markdown",
   "id": "ff23a2b4-fb3a-4d2a-8093-29c57c199d2a",
   "metadata": {},
   "source": [
    "Let's step through running those examples handling identifier conversion here as a way to cover the use of this on the command line."
   ]
  },
  {
   "cell_type": "code",
   "execution_count": 2,
   "id": "dbb9bb57-ccad-4e6f-ab58-18125d2f4510",
   "metadata": {},
   "outputs": [
    {
     "name": "stdout",
     "output_type": "stream",
     "text": [
      "{\"doi\": \"10.1007/s13205-018-1330-z\", \"pmcid\": \"PMC6039336\", \"pmid\": 30003000, \"requested-id\": \"30003000\"}\n"
     ]
    }
   ],
   "source": [
    "!pmc_idconv 30003000"
   ]
  },
  {
   "cell_type": "code",
   "execution_count": 3,
   "id": "f8e86f5f-e7ad-4886-aefb-abd98c901cc2",
   "metadata": {},
   "outputs": [
    {
     "name": "stdout",
     "output_type": "stream",
     "text": [
      "{\"doi\": \"10.1007/s13205-018-1330-z\", \"pmcid\": \"PMC6039336\", \"pmid\": 30003000, \"requested-id\": \"PMC6039336\"}\n"
     ]
    }
   ],
   "source": [
    "!pmc_idconv PMC6039336"
   ]
  },
  {
   "cell_type": "code",
   "execution_count": 4,
   "id": "9063e7c5-a2e0-432c-aace-a94dd04aba1a",
   "metadata": {},
   "outputs": [
    {
     "name": "stdout",
     "output_type": "stream",
     "text": [
      "{\"doi\": \"10.1007/s13205-018-1330-z\", \"pmcid\": \"PMC6039336\", \"pmid\": 30003000, \"requested-id\": \"10.1007/s13205-018-1330-z\"}\n"
     ]
    }
   ],
   "source": [
    "!pmc_idconv 10.1007/s13205-018-1330-z "
   ]
  },
  {
   "cell_type": "markdown",
   "id": "3665c906-8de0-4350-83f7-ffdbf7c11a59",
   "metadata": {},
   "source": [
    "The fourth example involving identifiers demonstrates BATCH conversion of multiple identifiers."
   ]
  },
  {
   "cell_type": "code",
   "execution_count": 5,
   "id": "5d5c1801-edba-4021-978e-bffbed87dcc6",
   "metadata": {},
   "outputs": [
    {
     "name": "stdout",
     "output_type": "stream",
     "text": [
      "{\"doi\": \"10.1007/s13205-018-1330-z\", \"pmcid\": \"PMC6039336\", \"pmid\": 30003000, \"requested-id\": \"30003000\"}\n",
      "{\"doi\": \"10.1002/open.201800095\", \"pmcid\": \"PMC6031859\", \"pmid\": 30003001, \"requested-id\": \"30003001\"}\n",
      "{\"doi\": \"10.1002/open.201800044\", \"pmcid\": \"PMC6031856\", \"pmid\": 30003002, \"requested-id\": \"30003002\"}\n"
     ]
    }
   ],
   "source": [
    "!pmc_idconv 30003000 30003001 30003002"
   ]
  },
  {
   "cell_type": "markdown",
   "id": "e4a960f4-e487-42c3-b9e4-165168626ca1",
   "metadata": {},
   "source": [
    "The fifth example from the usage involving identifiers is meant to demonstrate sending the the results to a file. The related example on the repo [there]((https://github.com/suqingdong/pmc_id_converter#command-line) looks more fully realized version of this and so I suggest using that instead:\n",
    "\n",
    "```shell\n",
    "# Output to a file\n",
    "pmc_idconv 30003000 30003001 30003002 -o out.json\n",
    "```"
   ]
  },
  {
   "cell_type": "code",
   "execution_count": 6,
   "id": "25d8db07-4c76-47d2-97d2-dc381d7aadf6",
   "metadata": {},
   "outputs": [
    {
     "name": "stdout",
     "output_type": "stream",
     "text": [
      "\u001b[32m[2025-10-22 15:20:29\u001b[0m \u001b[34mMain\u001b[0m cli \u001b[1;30mDEBUG\u001b[0m MainThread:45] \u001b[32msave file to: out.json\u001b[0m\n"
     ]
    }
   ],
   "source": [
    "!pmc_idconv 30003000 30003001 30003002 -o out.json"
   ]
  },
  {
   "cell_type": "markdown",
   "id": "b1477530-9d7e-4ceb-8c8f-9e9398e7ddae",
   "metadata": {},
   "source": [
    "At this time I cannot explain why it shows `DEBUG MainThread:45` because everything seems to work so I suggest ignoring that for now.  \n",
    "Run the next command to demonstratie the last example worked:"
   ]
  },
  {
   "cell_type": "code",
   "execution_count": 7,
   "id": "ed5a94c0-184d-4a06-9a1a-d8ba3a242252",
   "metadata": {},
   "outputs": [
    {
     "name": "stdout",
     "output_type": "stream",
     "text": [
      "{\"doi\": \"10.1007/s13205-018-1330-z\", \"pmcid\": \"PMC6039336\", \"pmid\": 30003000, \"requested-id\": \"30003000\"}\n",
      "{\"doi\": \"10.1002/open.201800095\", \"pmcid\": \"PMC6031859\", \"pmid\": 30003001, \"requested-id\": \"30003001\"}\n",
      "{\"doi\": \"10.1002/open.201800044\", \"pmcid\": \"PMC6031856\", \"pmid\": 30003002, \"requested-id\": \"30003002\"}\n"
     ]
    }
   ],
   "source": [
    "!head out.json"
   ]
  },
  {
   "cell_type": "markdown",
   "id": "87a4d853-9a42-43b5-9297-789e7a5ba73b",
   "metadata": {},
   "source": [
    "That shows the content of the file generated file `out.json` are the expected results given the output from `pmc_idconv 30003000 30003001 30003002` earlier."
   ]
  },
  {
   "cell_type": "markdown",
   "id": "21ca67ac-956a-4e3d-b3a2-6cab0ecc3384",
   "metadata": {},
   "source": [
    "----------------\n",
    "\n",
    "# Use `pmc_id_converter` via Python\n",
    "\n",
    "In addition to the command line, the Usage notes featured in [suqingdong's GitHub repo for pmc_id_converter](https://github.com/suqingdong/pmc_id_converter#id-converter-between-pmid-pmcid-and-doi) show you can use it via Python as well.\n",
    "\n",
    "I think this offers much more functionality than the command line if you are going to be using this with Python or Jupyter with a Python-based kernel. However, the offered demonstrations are lacking for novices not looking to dig through the code. I will expand greatly on these and give examples of how you can use this utility in your Python ecosystem. In particular, I'll include use with Pandas that is common package in data science work within the Python ecosystem."
   ]
  },
  {
   "cell_type": "code",
   "execution_count": null,
   "id": "7abd9146-eefa-4b90-b8eb-5998f30ffa38",
   "metadata": {},
   "outputs": [],
   "source": []
  },
  {
   "cell_type": "code",
   "execution_count": null,
   "id": "f7fd62e9-c636-4e2a-a726-3def69bf529b",
   "metadata": {},
   "outputs": [],
   "source": []
  },
  {
   "cell_type": "code",
   "execution_count": null,
   "id": "fe83597e-1ab5-4756-b3d7-1eafa800c74f",
   "metadata": {},
   "outputs": [],
   "source": []
  },
  {
   "cell_type": "code",
   "execution_count": null,
   "id": "f94bb9d8-8e17-4f9f-8359-34957d9440f9",
   "metadata": {},
   "outputs": [],
   "source": []
  },
  {
   "cell_type": "code",
   "execution_count": null,
   "id": "5f635318-3834-494d-9aaf-eb85d09114e3",
   "metadata": {},
   "outputs": [],
   "source": []
  },
  {
   "cell_type": "code",
   "execution_count": null,
   "id": "de9f5a6c-b17e-43a1-9c0b-4b90e3ca46a5",
   "metadata": {},
   "outputs": [],
   "source": []
  },
  {
   "cell_type": "code",
   "execution_count": null,
   "id": "b796a063-2222-46c3-a7e8-08c86c7e502a",
   "metadata": {},
   "outputs": [],
   "source": []
  },
  {
   "cell_type": "markdown",
   "id": "fad37795-f206-40d4-9ee8-4c7d7285c576",
   "metadata": {},
   "source": [
    "??????"
   ]
  },
  {
   "cell_type": "markdown",
   "id": "2586663f-b2cb-48b5-9cf1-f3a8c91a6644",
   "metadata": {},
   "source": [
    "------\n",
    "\n",
    "Enjoy!"
   ]
  }
 ],
 "metadata": {
  "kernelspec": {
   "display_name": "Python 3 (ipykernel)",
   "language": "python",
   "name": "python3"
  },
  "language_info": {
   "codemirror_mode": {
    "name": "ipython",
    "version": 3
   },
   "file_extension": ".py",
   "mimetype": "text/x-python",
   "name": "python",
   "nbconvert_exporter": "python",
   "pygments_lexer": "ipython3",
   "version": "3.10.19"
  }
 },
 "nbformat": 4,
 "nbformat_minor": 5
}
