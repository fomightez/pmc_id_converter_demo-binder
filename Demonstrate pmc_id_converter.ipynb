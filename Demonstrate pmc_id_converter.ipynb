{
 "cells": [
  {
   "cell_type": "markdown",
   "id": "a6131590-401c-4b1b-9057-1a1b83278390",
   "metadata": {},
   "source": [
    "## Trying pmc_id_converter\n",
    "\n",
    "> \"pmc_id_converter for ID converter between PMID, PMCID and DOI\"\n",
    "\n",
    "Here the demonstration of this package is done in temporary sessions served via the MyBinder service, and so if you make anything useful save it back to your local machine ASAP.\n",
    "\n",
    "The package is already installed in sessions that come up if you launched from [here](https://github.com/fomightez/pmc_id_converter_demo-binder). Otherwise, you'd want to run `%pip install pmc-id-converter` in your Jupyter Notebook file."
   ]
  },
  {
   "cell_type": "markdown",
   "id": "14da8d15-c46c-4302-ae6a-70d9fbfec254",
   "metadata": {},
   "source": [
    "--------\n",
    "\n",
    "# Use `pmc_id_converter` via Command Line interface\n",
    "\n",
    "NOTE: \n",
    "In these demonstrations the exclamation point is used to send commands to the command line. You would not not need this in the terminal/console. **In other words, in most cases you'll want to actually delete the exclamation point shown at the start of these commands to use on the REAL command line.**\n",
    "\n",
    "Running `pmc_idconv --help` shows you several command examples and options for usage"
   ]
  },
  {
   "cell_type": "code",
   "execution_count": 1,
   "id": "4d8146ef-5884-436c-b15a-a57cb43fc5d0",
   "metadata": {},
   "outputs": [
    {
     "name": "stdout",
     "output_type": "stream",
     "text": [
      "Usage: pmc_idconv [OPTIONS] [IDS]...\n",
      "\n",
      "  \u001b[36m\u001b[1m\u001b[3mID converter between PMID, PMCID and DOI\u001b[0m\n",
      "\n",
      "Options:\n",
      "  --version           Show the version and exit.\n",
      "  -o, --outfile TEXT  the output filename [stdout]\n",
      "  -?, -h, --help      Show this message and exit.\n",
      "\n",
      "  \u001b[32m\n",
      "\n",
      "  Examples:\n",
      "      pmc_idconv --help\n",
      "      pmc_idconv 30003000                     [PMID]\n",
      "      pmc_idconv PMC6039336                   [PMCID]\n",
      "      pmc_idconv 10.1007/s13205-018-1330-z    [DOI]\n",
      "      pmc_idconv 30003000 30003001 30003002   [BATCH]\n",
      "      pmc_idconv 30003000 30003001 -o out.jl  [FILE]  \n",
      "\n",
      "  \u001b[97m\u001b[3mContact: suqingdong <suqingdong1114@gmail.com>\u001b[0m \u001b[0m\n"
     ]
    }
   ],
   "source": [
    "!pmc_idconv --help"
   ]
  },
  {
   "cell_type": "markdown",
   "id": "ff23a2b4-fb3a-4d2a-8093-29c57c199d2a",
   "metadata": {},
   "source": [
    "Let's step through running those examples handling identifier conversion here as a way to cover the use of this on the command line."
   ]
  },
  {
   "cell_type": "code",
   "execution_count": 2,
   "id": "dbb9bb57-ccad-4e6f-ab58-18125d2f4510",
   "metadata": {},
   "outputs": [
    {
     "name": "stdout",
     "output_type": "stream",
     "text": [
      "{\"doi\": \"10.1007/s13205-018-1330-z\", \"pmcid\": \"PMC6039336\", \"pmid\": 30003000, \"requested-id\": \"30003000\"}\n"
     ]
    }
   ],
   "source": [
    "!pmc_idconv 30003000"
   ]
  },
  {
   "cell_type": "code",
   "execution_count": 3,
   "id": "f8e86f5f-e7ad-4886-aefb-abd98c901cc2",
   "metadata": {},
   "outputs": [
    {
     "name": "stdout",
     "output_type": "stream",
     "text": [
      "{\"doi\": \"10.1007/s13205-018-1330-z\", \"pmcid\": \"PMC6039336\", \"pmid\": 30003000, \"requested-id\": \"PMC6039336\"}\n"
     ]
    }
   ],
   "source": [
    "!pmc_idconv PMC6039336"
   ]
  },
  {
   "cell_type": "code",
   "execution_count": 4,
   "id": "9063e7c5-a2e0-432c-aace-a94dd04aba1a",
   "metadata": {},
   "outputs": [
    {
     "name": "stdout",
     "output_type": "stream",
     "text": [
      "{\"doi\": \"10.1007/s13205-018-1330-z\", \"pmcid\": \"PMC6039336\", \"pmid\": 30003000, \"requested-id\": \"10.1007/s13205-018-1330-z\"}\n"
     ]
    }
   ],
   "source": [
    "!pmc_idconv 10.1007/s13205-018-1330-z "
   ]
  },
  {
   "cell_type": "markdown",
   "id": "3665c906-8de0-4350-83f7-ffdbf7c11a59",
   "metadata": {},
   "source": [
    "The fourth example involving identifiers demonstrates BATCH conversion of multiple identifiers."
   ]
  },
  {
   "cell_type": "code",
   "execution_count": 5,
   "id": "5d5c1801-edba-4021-978e-bffbed87dcc6",
   "metadata": {},
   "outputs": [
    {
     "name": "stdout",
     "output_type": "stream",
     "text": [
      "{\"doi\": \"10.1007/s13205-018-1330-z\", \"pmcid\": \"PMC6039336\", \"pmid\": 30003000, \"requested-id\": \"30003000\"}\n",
      "{\"doi\": \"10.1002/open.201800095\", \"pmcid\": \"PMC6031859\", \"pmid\": 30003001, \"requested-id\": \"30003001\"}\n",
      "{\"doi\": \"10.1002/open.201800044\", \"pmcid\": \"PMC6031856\", \"pmid\": 30003002, \"requested-id\": \"30003002\"}\n"
     ]
    }
   ],
   "source": [
    "!pmc_idconv 30003000 30003001 30003002"
   ]
  },
  {
   "cell_type": "markdown",
   "id": "e4a960f4-e487-42c3-b9e4-165168626ca1",
   "metadata": {},
   "source": [
    "The fifth example from the usage involving identifiers is meant to demonstrate sending the the results to a file. The related example on the repo [there]((https://github.com/suqingdong/pmc_id_converter#command-line) looks more fully realized version of this and so I suggest using that instead:\n",
    "\n",
    "```shell\n",
    "# Output to a file\n",
    "pmc_idconv 30003000 30003001 30003002 -o out.json\n",
    "```"
   ]
  },
  {
   "cell_type": "code",
   "execution_count": 6,
   "id": "25d8db07-4c76-47d2-97d2-dc381d7aadf6",
   "metadata": {},
   "outputs": [
    {
     "name": "stdout",
     "output_type": "stream",
     "text": [
      "\u001b[32m[2025-10-22 16:55:59\u001b[0m \u001b[34mMain\u001b[0m cli \u001b[1;30mDEBUG\u001b[0m MainThread:45] \u001b[32msave file to: out.json\u001b[0m\n"
     ]
    }
   ],
   "source": [
    "!pmc_idconv 30003000 30003001 30003002 -o out.json"
   ]
  },
  {
   "cell_type": "markdown",
   "id": "b1477530-9d7e-4ceb-8c8f-9e9398e7ddae",
   "metadata": {},
   "source": [
    "At this time I cannot explain why it shows `DEBUG MainThread:45` because everything seems to work so I suggest ignoring that for now.  \n",
    "Run the next command to demonstratie the last example worked:"
   ]
  },
  {
   "cell_type": "code",
   "execution_count": 7,
   "id": "ed5a94c0-184d-4a06-9a1a-d8ba3a242252",
   "metadata": {},
   "outputs": [
    {
     "name": "stdout",
     "output_type": "stream",
     "text": [
      "{\"doi\": \"10.1007/s13205-018-1330-z\", \"pmcid\": \"PMC6039336\", \"pmid\": 30003000, \"requested-id\": \"30003000\"}\n",
      "{\"doi\": \"10.1002/open.201800095\", \"pmcid\": \"PMC6031859\", \"pmid\": 30003001, \"requested-id\": \"30003001\"}\n",
      "{\"doi\": \"10.1002/open.201800044\", \"pmcid\": \"PMC6031856\", \"pmid\": 30003002, \"requested-id\": \"30003002\"}\n"
     ]
    }
   ],
   "source": [
    "!head out.json"
   ]
  },
  {
   "cell_type": "markdown",
   "id": "87a4d853-9a42-43b5-9297-789e7a5ba73b",
   "metadata": {},
   "source": [
    "That shows the content of the file generated file `out.json` are the expected results given the output from `pmc_idconv 30003000 30003001 30003002` earlier."
   ]
  },
  {
   "cell_type": "markdown",
   "id": "21ca67ac-956a-4e3d-b3a2-6cab0ecc3384",
   "metadata": {},
   "source": [
    "----------------\n",
    "\n",
    "# Use `pmc_id_converter` via Python\n",
    "\n",
    "In addition to the command line, the Usage notes featured in [suqingdong's GitHub repo for pmc_id_converter](https://github.com/suqingdong/pmc_id_converter#id-converter-between-pmid-pmcid-and-doi) show you can use it via Python as well.\n",
    "\n",
    "I think this offers much more functionality than the command line if you are going to be using this with Python or Jupyter with a Python-based kernel. However, the offered demonstrations are lacking for novices not looking to dig through the code. I will expand greatly on these and give examples of how you can use this utility in your Python ecosystem. In particular, I'll include use with Pandas that is common package in data science work within the Python ecosystem.\n",
    "\n",
    "These are the Python usage demonstrations offered by [suqingdong's GitHub repo for pmc_id_converter](https://github.com/suqingdong/pmc_id_converter#python):\n",
    "\n",
    "```python\n",
    "from pmc_id_converter import API\n",
    "\n",
    "API.idconv('PMC3531190')\n",
    "API.idconv('PMC3531190', 'PMC3531191123', 'PMC3531191')\n",
    "API.idconv('23193287')\n",
    "API.idconv('10.1093/nar/gks1195')\n",
    "```\n",
    "\n",
    "Let's start with the import statement and the first example. Try running this next cell to do that:"
   ]
  },
  {
   "cell_type": "code",
   "execution_count": 8,
   "id": "e94c17f4-43a8-4371-be5b-9e41bc784fea",
   "metadata": {},
   "outputs": [
    {
     "data": {
      "text/plain": [
       "[PMC3531190]"
      ]
     },
     "execution_count": 8,
     "metadata": {},
     "output_type": "execute_result"
    }
   ],
   "source": [
    "from pmc_id_converter import API\n",
    "API.idconv('PMC3531190')"
   ]
  },
  {
   "cell_type": "markdown",
   "id": "557217a0-d2fc-4f69-93a6-a01d58995ded",
   "metadata": {},
   "source": [
    "When running that here, you'll simply get the following as output:\n",
    "\n",
    "```text\n",
    "[PMC3531190]\n",
    "```\n",
    "\n",
    "That is hardly informative. We got the same thing we put, namely the PubMed Central identifier.  \n",
    "If you know Python, you may recognize that the brackets may be implying that is a list.\n",
    "\n",
    "If we run the third offered example we may see we get something more along the line a conversion at least:"
   ]
  },
  {
   "cell_type": "code",
   "execution_count": 9,
   "id": "f7fd62e9-c636-4e2a-a726-3def69bf529b",
   "metadata": {},
   "outputs": [
    {
     "data": {
      "text/plain": [
       "[PMC3531190]"
      ]
     },
     "execution_count": 9,
     "metadata": {},
     "output_type": "execute_result"
    }
   ],
   "source": [
    "API.idconv('23193287')"
   ]
  },
  {
   "cell_type": "markdown",
   "id": "10a7c1f9-b1b7-4e47-a20d-c2ecddbc115d",
   "metadata": {},
   "source": [
    "We didn't need to repeat the import again because it has already been imported into the current namespace.\n",
    "\n",
    "This time we used the PMID and not get PubMed Central identifier, it seems. However, this doesn't seem as informative as the command line use and that is because why this is a list, it is not simply the identifier. Keen Python-folks may have realized though it looks like a list, it isn't a Python string.  \n",
    "So what is it?\n",
    "Run the following cell to check the type of each of the code examples we ran so far:"
   ]
  },
  {
   "cell_type": "code",
   "execution_count": 10,
   "id": "552f4142-7489-4adf-a283-309246bee695",
   "metadata": {},
   "outputs": [
    {
     "name": "stdout",
     "output_type": "stream",
     "text": [
      "<class 'list'>\n",
      "<class 'list'>\n"
     ]
    }
   ],
   "source": [
    "print(type(API.idconv('PMC3531190')))\n",
    "print(type(API.idconv('23193287')))"
   ]
  },
  {
   "cell_type": "markdown",
   "id": "d18a59a1-91c2-4088-996e-253df18d56b2",
   "metadata": {},
   "source": [
    "Indeed, each example from this section so far gave a Python list.\n",
    "\n",
    "Each list has only one item so let's check what that is by specifying the first item, i.e., the one with index zero."
   ]
  },
  {
   "cell_type": "code",
   "execution_count": 11,
   "id": "6a7f8f7d-0522-408e-a290-50b06d9b52f7",
   "metadata": {},
   "outputs": [
    {
     "name": "stdout",
     "output_type": "stream",
     "text": [
      "<class 'pmc_id_converter.core.Record'>\n",
      "<class 'pmc_id_converter.core.Record'>\n"
     ]
    }
   ],
   "source": [
    "print(type(API.idconv('PMC3531190')[0]))\n",
    "print(type(API.idconv('23193287')[0]))"
   ]
  },
  {
   "cell_type": "markdown",
   "id": "53e11a3b-6579-477b-a3b2-5a9e3653da28",
   "metadata": {},
   "source": [
    "Now we see each result was an item of the class `pmc_id_converter.core.Record`. \n",
    "\n",
    "That's interesting. So what we first saw was a list with a specially define record class as the only item.\n",
    "\n",
    "To learn about this record item, let's use try the `print()` function to see how Python has been told to display items of the record type."
   ]
  },
  {
   "cell_type": "code",
   "execution_count": 12,
   "id": "f94bb9d8-8e17-4f9f-8359-34957d9440f9",
   "metadata": {},
   "outputs": [
    {
     "name": "stdout",
     "output_type": "stream",
     "text": [
      "{'doi': '10.1093/nar/gks1195', 'pmcid': 'PMC3531190', 'pmid': 23193287, 'requested-id': 'PMC3531190'}\n"
     ]
    }
   ],
   "source": [
    "records_of_query_results = API.idconv('PMC3531190')\n",
    "for record in records_of_query_results:\n",
    "    print(record)"
   ]
  },
  {
   "cell_type": "markdown",
   "id": "3044d95b-fbc5-4b56-bc94-b104f0d917b8",
   "metadata": {},
   "source": [
    "Oh, that looks like what we got from the command line approach.  \n",
    "Let's see what the other example yields when explored that way:"
   ]
  },
  {
   "cell_type": "code",
   "execution_count": 13,
   "id": "5f635318-3834-494d-9aaf-eb85d09114e3",
   "metadata": {},
   "outputs": [
    {
     "name": "stdout",
     "output_type": "stream",
     "text": [
      "{'doi': '10.1093/nar/gks1195', 'pmcid': 'PMC3531190', 'pmid': 23193287, 'requested-id': '23193287'}\n"
     ]
    }
   ],
   "source": [
    "records_of_query_results = API.idconv('23193287')\n",
    "for record in records_of_query_results:\n",
    "    print(record)"
   ]
  },
  {
   "cell_type": "markdown",
   "id": "4d2588d4-a2db-46f6-9be5-510e8d2e123b",
   "metadata": {},
   "source": [
    "A-ha, the same thing because that is the PMID.\n",
    "Now we seem to be getting information that is much more useful.  \n",
    "And since it is the same thing, we'll focus on just one example for now.\n",
    "\n",
    "So it turns out, if you dig in the code, you'll see that the developer of the package added a data attribute to this special 'record' class defined, and so we could have gotten much the same more easily by taking the first item in the list of results and getting the data attribute for it."
   ]
  },
  {
   "cell_type": "code",
   "execution_count": 14,
   "id": "70c84317-267e-48bd-be67-64d43fd6aa36",
   "metadata": {},
   "outputs": [
    {
     "data": {
      "text/plain": [
       "{'doi': '10.1093/nar/gks1195',\n",
       " 'pmcid': 'PMC3531190',\n",
       " 'pmid': 23193287,\n",
       " 'requested-id': 'PMC3531190'}"
      ]
     },
     "execution_count": 14,
     "metadata": {},
     "output_type": "execute_result"
    }
   ],
   "source": [
    "API.idconv('PMC3531190')[0].data"
   ]
  },
  {
   "cell_type": "markdown",
   "id": "1afbff10-dc4d-465b-85ff-aafd3da73ad0",
   "metadata": {},
   "source": [
    "What from the `data` attribute of the record looks like a Python dictionary. Is it?"
   ]
  },
  {
   "cell_type": "code",
   "execution_count": 15,
   "id": "1e29cfa8-fe8c-44ca-9763-fb50ef87f2b2",
   "metadata": {},
   "outputs": [
    {
     "data": {
      "text/plain": [
       "dict"
      ]
     },
     "execution_count": 15,
     "metadata": {},
     "output_type": "execute_result"
    }
   ],
   "source": [
    "type(API.idconv('PMC3531190')[0].data)"
   ]
  },
  {
   "cell_type": "markdown",
   "id": "25d8d7c4-e4a0-493c-b513-669f62270b24",
   "metadata": {},
   "source": [
    "Indeed, it is.  \n",
    "Since, that object we get from the `data` attribute of the record is a dictionary, we can now use standard Python ways we handle dictionaries to access the data held in it. Like so:"
   ]
  },
  {
   "cell_type": "code",
   "execution_count": 16,
   "id": "824d0699-00aa-4418-bab2-198fdad88eaa",
   "metadata": {},
   "outputs": [
    {
     "data": {
      "text/plain": [
       "'10.1093/nar/gks1195'"
      ]
     },
     "execution_count": 16,
     "metadata": {},
     "output_type": "execute_result"
    }
   ],
   "source": [
    "API.idconv('PMC3531190')[0].data.get('doi')"
   ]
  },
  {
   "cell_type": "markdown",
   "id": "f51e391f-63a0-4c2e-a9a4-3f0e564376c9",
   "metadata": {},
   "source": [
    "Or the simple way to access the same thing in a dictionary:"
   ]
  },
  {
   "cell_type": "code",
   "execution_count": 17,
   "id": "6aa8f19e-5f41-4dcc-8de2-5a587f4fc9c4",
   "metadata": {},
   "outputs": [
    {
     "data": {
      "text/plain": [
       "'10.1093/nar/gks1195'"
      ]
     },
     "execution_count": 17,
     "metadata": {},
     "output_type": "execute_result"
    }
   ],
   "source": [
    "API.idconv('PMC3531190')[0].data['doi']"
   ]
  },
  {
   "cell_type": "markdown",
   "id": "62431d04-0e0c-4d0e-ac35-717e3cffffa3",
   "metadata": {},
   "source": [
    "If you have been paying close attention, you'll also realize the last example under the Python examples, this:\n",
    "\n",
    "```python\n",
    "API.idconv('10.1093/nar/gks1195')\n",
    "```\n",
    "\n",
    "turns out to be much the same thing as the first (`API.idconv('PMC3531190')`) and third (`API.idconv('23193287')`) examples.  \n",
    "Let's do that query and see what I mean:"
   ]
  },
  {
   "cell_type": "code",
   "execution_count": 18,
   "id": "08045076-bf93-43f6-a248-115d37c49eeb",
   "metadata": {},
   "outputs": [
    {
     "name": "stdout",
     "output_type": "stream",
     "text": [
      "{'doi': '10.1093/nar/gks1195', 'pmcid': 'PMC3531190', 'pmid': 23193287, 'requested-id': '10.1093/nar/gks1195'}\n",
      "{'doi': '10.1093/nar/gks1195', 'pmcid': 'PMC3531190', 'pmid': 23193287, 'requested-id': 'PMC3531190'}\n",
      "{'doi': '10.1093/nar/gks1195', 'pmcid': 'PMC3531190', 'pmid': 23193287, 'requested-id': '23193287'}\n"
     ]
    }
   ],
   "source": [
    "records_of_query_results = API.idconv('10.1093/nar/gks1195')\n",
    "for record in records_of_query_results:\n",
    "    print(record)\n",
    "# Indeed what we use earlier gives much the same dictionary of results:\n",
    "print(API.idconv('PMC3531190')[0].data)\n",
    "print(API.idconv('23193287')[0].data)"
   ]
  },
  {
   "cell_type": "markdown",
   "id": "18df247e-746e-4ffd-9f9b-9455fed0110d",
   "metadata": {},
   "source": [
    "Indeed, only the `'requested-id'` entry that comes from the query input is any different in each resulting dictionary.\n",
    "\n",
    "So I'd suggest a better Python example to have offered at the repo, for all but the second example, may have been:\n",
    "\n",
    "### Better Python Example Code for Novices\n",
    "\n",
    "```python\n",
    "from pmc_id_converter import API\n",
    "\n",
    "query_id = 'PMC3531190'\n",
    "records_of_query_results = API.idconv(query_id)\n",
    "for record in records_of_query_results:\n",
    "    print(record)\n",
    "query_id = '23193287'\n",
    "records_of_query_results = API.idconv(query_id)\n",
    "for record in records_of_query_results:\n",
    "    print(record)\n",
    "query_id = '10.1093/nar/gks1195'\n",
    "records_of_query_results = API.idconv(query_id)\n",
    "for record in records_of_query_results:\n",
    "    print(record)\n",
    "print(record.data['pmcid'])\n",
    "print(record.data['pmid'])\n",
    "print(record.data['doi'])\n",
    "```\n",
    "\n",
    "Let's run that next:"
   ]
  },
  {
   "cell_type": "code",
   "execution_count": 12,
   "id": "08cf4b20-6faa-4f8a-98f4-bf5141953dee",
   "metadata": {},
   "outputs": [
    {
     "name": "stdout",
     "output_type": "stream",
     "text": [
      "{'doi': '10.1093/nar/gks1195', 'pmcid': 'PMC3531190', 'pmid': 23193287, 'requested-id': 'PMC3531190'}\n",
      "{'doi': '10.1093/nar/gks1195', 'pmcid': 'PMC3531190', 'pmid': 23193287, 'requested-id': '23193287'}\n",
      "{'doi': '10.1093/nar/gks1195', 'pmcid': 'PMC3531190', 'pmid': 23193287, 'requested-id': '10.1093/nar/gks1195'}\n",
      "PMC3531190\n",
      "23193287\n",
      "10.1093/nar/gks1195\n"
     ]
    }
   ],
   "source": [
    "from pmc_id_converter import API\n",
    "query_id = 'PMC3531190'\n",
    "records_of_query_results = API.idconv(query_id)\n",
    "for record in records_of_query_results:\n",
    "    print(record)\n",
    "query_id = '23193287'\n",
    "records_of_query_results = API.idconv(query_id)\n",
    "for record in records_of_query_results:\n",
    "    print(record)\n",
    "query_id = '10.1093/nar/gks1195'\n",
    "records_of_query_results = API.idconv(query_id)\n",
    "for record in records_of_query_results:\n",
    "    print(record)\n",
    "print(record.data['pmcid'])\n",
    "print(record.data['pmid'])\n",
    "print(record.data['doi'])"
   ]
  },
  {
   "cell_type": "markdown",
   "id": "e70ee909-6bbe-42a9-ab8c-f69a75cd057c",
   "metadata": {},
   "source": [
    "I think that more easily & fully illustrates how to do queries and handle the results.\n",
    "\n",
    "The second example offered appears more complex because it is 'batch' query of several identifiers, similar to the 'batch' example from the command line section. However, we can handle the results much the same way with some adjustments."
   ]
  },
  {
   "cell_type": "code",
   "execution_count": 8,
   "id": "f70c345b-569b-4392-8f8b-74d98c9f5a49",
   "metadata": {},
   "outputs": [
    {
     "name": "stderr",
     "output_type": "stream",
     "text": [
      "[2025-10-22 17:42:12 ID_CONV_API idconv ERROR MainThread:58] RecordError: Identifier not found in PMC for \"PMC3531191123\"\n"
     ]
    },
    {
     "name": "stdout",
     "output_type": "stream",
     "text": [
      "{'doi': '10.1093/nar/gks1195', 'pmcid': 'PMC3531190', 'pmid': 23193287, 'requested-id': 'PMC3531190'}\n",
      "{'errmsg': 'Identifier not found in PMC', '_id': 'PMC3531191123'}\n",
      "{'doi': '10.1093/nar/gks1163', 'pmcid': 'PMC3531191', 'pmid': 23193288, 'requested-id': 'PMC3531191'}\n"
     ]
    }
   ],
   "source": [
    "# version of `API.idconv('PMC3531190', 'PMC3531191123', 'PMC3531191')`\n",
    "query_strings = ('PMC3531190', 'PMC3531191123', 'PMC3531191')\n",
    "records_of_query_results = API.idconv(*query_strings)\n",
    "for record in records_of_query_results:\n",
    "    print(record)"
   ]
  },
  {
   "cell_type": "code",
   "execution_count": 11,
   "id": "2b837613-528c-44b2-9b89-3ce13208fd3a",
   "metadata": {},
   "outputs": [
    {
     "name": "stderr",
     "output_type": "stream",
     "text": [
      "[2025-10-22 17:44:49 ID_CONV_API idconv ERROR MainThread:58] RecordError: Identifier not found in PMC for \"PMC3531191123\"\n"
     ]
    },
    {
     "name": "stdout",
     "output_type": "stream",
     "text": [
      "{'doi': '10.1093/nar/gks1195', 'pmcid': 'PMC3531190', 'pmid': 23193287, 'requested-id': 'PMC3531190'}\n",
      "{'errmsg': 'Identifier not found in PMC', '_id': 'PMC3531191123'}\n",
      "{'doi': '10.1093/nar/gks1163', 'pmcid': 'PMC3531191', 'pmid': 23193288, 'requested-id': 'PMC3531191'}\n"
     ]
    }
   ],
   "source": [
    "# version of `API.idconv('PMC3531190', 'PMC3531191123', 'PMC3531191')`\n",
    "query_ids = 'PMC3531190,PMC3531191123,PMC3531191'\n",
    "records_of_query_results = API.idconv(query_ids)\n",
    "for record in records_of_query_results:\n",
    "    print(record)"
   ]
  },
  {
   "cell_type": "code",
   "execution_count": null,
   "id": "7ffb5ffc-8c34-4fbb-80ff-84d27ffb5a8b",
   "metadata": {},
   "outputs": [],
   "source": []
  },
  {
   "cell_type": "code",
   "execution_count": null,
   "id": "23081fd6-29d6-4929-97cf-b49f563840d0",
   "metadata": {},
   "outputs": [],
   "source": []
  },
  {
   "cell_type": "code",
   "execution_count": null,
   "id": "b09574bc-92cf-4235-a427-8139d250143b",
   "metadata": {},
   "outputs": [],
   "source": []
  },
  {
   "cell_type": "code",
   "execution_count": null,
   "id": "b796a063-2222-46c3-a7e8-08c86c7e502a",
   "metadata": {},
   "outputs": [],
   "source": []
  },
  {
   "cell_type": "markdown",
   "id": "fad37795-f206-40d4-9ee8-4c7d7285c576",
   "metadata": {},
   "source": [
    "??????"
   ]
  },
  {
   "cell_type": "markdown",
   "id": "2586663f-b2cb-48b5-9cf1-f3a8c91a6644",
   "metadata": {},
   "source": [
    "------\n",
    "\n",
    "Enjoy!"
   ]
  }
 ],
 "metadata": {
  "kernelspec": {
   "display_name": "Python 3 (ipykernel)",
   "language": "python",
   "name": "python3"
  },
  "language_info": {
   "codemirror_mode": {
    "name": "ipython",
    "version": 3
   },
   "file_extension": ".py",
   "mimetype": "text/x-python",
   "name": "python",
   "nbconvert_exporter": "python",
   "pygments_lexer": "ipython3",
   "version": "3.10.19"
  }
 },
 "nbformat": 4,
 "nbformat_minor": 5
}
