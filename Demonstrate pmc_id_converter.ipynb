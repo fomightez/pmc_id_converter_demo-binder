{
 "cells": [
  {
   "cell_type": "markdown",
   "id": "a6131590-401c-4b1b-9057-1a1b83278390",
   "metadata": {},
   "source": [
    "## Trying pmc_id_converter\n",
    "\n",
    "> \"pmc_id_converter for ID converter between PMID, PMCID and DOI\"\n",
    "\n",
    "Here the demonstration of this package is done in temporary sessions served via the MyBinder service, and so if you make anything useful save it back to your local machine ASAP."
   ]
  },
  {
   "cell_type": "markdown",
   "id": "14da8d15-c46c-4302-ae6a-70d9fbfec254",
   "metadata": {},
   "source": [
    "--------\n",
    "\n",
    "# Use `pmc_id_converter` via Command Line interface\n",
    "\n",
    "NOTE: \n",
    "In these demonstrations the exclamation point is used to send commands to the command line. You would not not need this in the terminal/console. **In other words, in most cases you'll want to actually delete the exclamation point shown at the start of these commands to use on the REAL command line.**\n",
    "\n",
    "Running `pmc_idconv --help` shows you several command examples and options for usage"
   ]
  },
  {
   "cell_type": "code",
   "execution_count": 1,
   "id": "4d8146ef-5884-436c-b15a-a57cb43fc5d0",
   "metadata": {},
   "outputs": [
    {
     "name": "stdout",
     "output_type": "stream",
     "text": [
      "Usage: pmc_idconv [OPTIONS] [IDS]...\n",
      "\n",
      "  \u001b[36m\u001b[1m\u001b[3mID converter between PMID, PMCID and DOI\u001b[0m\n",
      "\n",
      "Options:\n",
      "  --version           Show the version and exit.\n",
      "  -o, --outfile TEXT  the output filename [stdout]\n",
      "  -h, -?, --help      Show this message and exit.\n",
      "\n",
      "  \u001b[32m\n",
      "\n",
      "  Examples:\n",
      "      pmc_idconv --help\n",
      "      pmc_idconv 30003000                     [PMID]\n",
      "      pmc_idconv PMC6039336                   [PMCID]\n",
      "      pmc_idconv 10.1007/s13205-018-1330-z    [DOI]\n",
      "      pmc_idconv 30003000 30003001 30003002   [BATCH]\n",
      "      pmc_idconv 30003000 30003001 -o out.jl  [FILE]  \n",
      "\n",
      "  \u001b[97m\u001b[3mContact: suqingdong <suqingdong1114@gmail.com>\u001b[0m \u001b[0m\n"
     ]
    }
   ],
   "source": [
    "!pmc_idconv --help"
   ]
  },
  {
   "cell_type": "markdown",
   "id": "ff23a2b4-fb3a-4d2a-8093-29c57c199d2a",
   "metadata": {},
   "source": [
    "Let's step through running those examples handling identifier conversion here as a way to cover the use of this on the command line."
   ]
  },
  {
   "cell_type": "code",
   "execution_count": 4,
   "id": "dbb9bb57-ccad-4e6f-ab58-18125d2f4510",
   "metadata": {},
   "outputs": [
    {
     "name": "stdout",
     "output_type": "stream",
     "text": [
      "{\"doi\": \"10.1007/s13205-018-1330-z\", \"pmcid\": \"PMC6039336\", \"pmid\": 30003000, \"requested-id\": \"30003000\"}\n"
     ]
    }
   ],
   "source": [
    "!pmc_idconv 30003000"
   ]
  },
  {
   "cell_type": "code",
   "execution_count": 5,
   "id": "f8e86f5f-e7ad-4886-aefb-abd98c901cc2",
   "metadata": {},
   "outputs": [
    {
     "name": "stdout",
     "output_type": "stream",
     "text": [
      "{\"doi\": \"10.1007/s13205-018-1330-z\", \"pmcid\": \"PMC6039336\", \"pmid\": 30003000, \"requested-id\": \"PMC6039336\"}\n"
     ]
    }
   ],
   "source": [
    "!pmc_idconv PMC6039336"
   ]
  },
  {
   "cell_type": "code",
   "execution_count": 6,
   "id": "9063e7c5-a2e0-432c-aace-a94dd04aba1a",
   "metadata": {},
   "outputs": [
    {
     "name": "stdout",
     "output_type": "stream",
     "text": [
      "{\"doi\": \"10.1007/s13205-018-1330-z\", \"pmcid\": \"PMC6039336\", \"pmid\": 30003000, \"requested-id\": \"10.1007/s13205-018-1330-z\"}\n"
     ]
    }
   ],
   "source": [
    "!pmc_idconv 10.1007/s13205-018-1330-z "
   ]
  },
  {
   "cell_type": "markdown",
   "id": "3665c906-8de0-4350-83f7-ffdbf7c11a59",
   "metadata": {},
   "source": [
    "The fourth example involving identifiers demonstrates BATCH conversion of multiple identifiers."
   ]
  },
  {
   "cell_type": "code",
   "execution_count": 7,
   "id": "5d5c1801-edba-4021-978e-bffbed87dcc6",
   "metadata": {},
   "outputs": [
    {
     "name": "stdout",
     "output_type": "stream",
     "text": [
      "{\"doi\": \"10.1007/s13205-018-1330-z\", \"pmcid\": \"PMC6039336\", \"pmid\": 30003000, \"requested-id\": \"30003000\"}\n",
      "{\"doi\": \"10.1002/open.201800095\", \"pmcid\": \"PMC6031859\", \"pmid\": 30003001, \"requested-id\": \"30003001\"}\n",
      "{\"doi\": \"10.1002/open.201800044\", \"pmcid\": \"PMC6031856\", \"pmid\": 30003002, \"requested-id\": \"30003002\"}\n"
     ]
    }
   ],
   "source": [
    "!pmc_idconv 30003000 30003001 30003002"
   ]
  },
  {
   "cell_type": "markdown",
   "id": "e4a960f4-e487-42c3-b9e4-165168626ca1",
   "metadata": {},
   "source": [
    "The fifth example from the usage involving identifiers is meant to demonstrate sending the the results to a file. The related example on the repo [there]((https://github.com/suqingdong/pmc_id_converter#command-line) looks more fully realized version of this and so I suggest using that instead:\n",
    "\n",
    "```shell\n",
    "# Output to a file\n",
    "pmc_idconv 30003000 30003001 30003002 -o out.json\n",
    "```"
   ]
  },
  {
   "cell_type": "code",
   "execution_count": 9,
   "id": "25d8db07-4c76-47d2-97d2-dc381d7aadf6",
   "metadata": {},
   "outputs": [
    {
     "name": "stdout",
     "output_type": "stream",
     "text": [
      "\u001b[32m[2025-10-22 15:03:42\u001b[0m \u001b[34mMain\u001b[0m cli \u001b[1;30mDEBUG\u001b[0m MainThread:45] \u001b[32msave file to: out.json\u001b[0m\n"
     ]
    }
   ],
   "source": [
    "!pmc_idconv 30003000 30003001 30003002 -o out.json"
   ]
  },
  {
   "cell_type": "markdown",
   "id": "b1477530-9d7e-4ceb-8c8f-9e9398e7ddae",
   "metadata": {},
   "source": [
    "At this time I cannot explain why it shows `DEBUG MainThread:45` because everything seems to work so I suggest ignoring that for now.  \n",
    "Run the next command to demonstratie the last example worked:"
   ]
  },
  {
   "cell_type": "code",
   "execution_count": 12,
   "id": "ed5a94c0-184d-4a06-9a1a-d8ba3a242252",
   "metadata": {},
   "outputs": [
    {
     "name": "stdout",
     "output_type": "stream",
     "text": [
      "{\"doi\": \"10.1007/s13205-018-1330-z\", \"pmcid\": \"PMC6039336\", \"pmid\": 30003000, \"requested-id\": \"30003000\"}\n",
      "{\"doi\": \"10.1002/open.201800095\", \"pmcid\": \"PMC6031859\", \"pmid\": 30003001, \"requested-id\": \"30003001\"}\n",
      "{\"doi\": \"10.1002/open.201800044\", \"pmcid\": \"PMC6031856\", \"pmid\": 30003002, \"requested-id\": \"30003002\"}\n"
     ]
    }
   ],
   "source": [
    "!head out.json"
   ]
  },
  {
   "cell_type": "markdown",
   "id": "21ca67ac-956a-4e3d-b3a2-6cab0ecc3384",
   "metadata": {},
   "source": [
    "----------------\n",
    "\n",
    "### Get some data to use:\n",
    "\n",
    "I happen to have some data in fastq format available as part of [my SICILIAN-binder repo](https://github.com/fomightez/SICILIAN-binder), so I'll use that for now.   \n",
    "FIX THIS SOON!!! ===> **THIS ISN'T PAIRED DATA SO DOESN'T REALLY ADDRESS `fqgrep  --paired` AND SINCE THAT IS AN IMPORTANT FEATURE, IT ISN'T BEST FOR DEMO!!!**"
   ]
  },
  {
   "cell_type": "code",
   "execution_count": 2,
   "id": "4ea72179-d9f9-46f9-9eeb-c96c44d3a781",
   "metadata": {},
   "outputs": [
    {
     "name": "stdout",
     "output_type": "stream",
     "text": [
      "  % Total    % Received % Xferd  Average Speed   Time    Time     Time  Current\n",
      "                                 Dload  Upload   Total   Spent    Left  Speed\n",
      "  0     0    0     0    0     0      0      0 --:--:--  0:00:01 --:--:--     0\n",
      "100 4467k  100 4467k    0     0  2763k      0  0:00:01  0:00:01 --:--:-- 2763k\n"
     ]
    }
   ],
   "source": [
    "!curl -OL https://github.com/fomightez/SICILIAN-binder/raw/refs/heads/master/demo_input/chr21_mapped_SRR12269911.fastq"
   ]
  },
  {
   "cell_type": "markdown",
   "id": "a92e56c5-b306-4a8a-8af8-c336ebeb0465",
   "metadata": {},
   "source": [
    "Let's rename it something more streamlined."
   ]
  },
  {
   "cell_type": "code",
   "execution_count": 3,
   "id": "17bd7ac5-24ec-4bb2-ab38-21611243e30e",
   "metadata": {},
   "outputs": [],
   "source": [
    "!mv chr21_mapped_SRR12269911.fastq demo.fastq"
   ]
  },
  {
   "cell_type": "markdown",
   "id": "a927f89c-f6ed-4033-9cb4-37983ba6330c",
   "metadata": {},
   "source": [
    "Now let's try it...\n",
    "\n",
    "-----\n",
    "\n",
    "### Usage\n",
    "\n",
    "Show 'Usage':"
   ]
  },
  {
   "cell_type": "code",
   "execution_count": 4,
   "id": "550d6624-12ab-4a65-8e3d-ea72078960d4",
   "metadata": {},
   "outputs": [
    {
     "name": "stdout",
     "output_type": "stream",
     "text": [
      "\u001b[1m\u001b[4m\u001b[1m\u001b[4mOVERVIEW\u001b[0m\u001b[0m\n",
      "\u001b[0m\n",
      "The fqgrep utility searches any given input FASTQ files, selecting records whose bases match one or more patterns.  By default, a pattern matches the bases in a FASTQ record if the regular expression (RE) in the pattern matches the bases.  An empty expression matches every line.  Each FASTQ record that matches at least one of the patterns is written to the standard output.\u001b[0m\n",
      "\u001b[1m\u001b[4m\u001b[0m\n",
      "\u001b[1m\u001b[4m\u001b[1m\u001b[4mINPUT COMPRESSION\u001b[0m\u001b[0m\n",
      "\u001b[0m\n",
      "By default, the input files are assumed to be uncompressed with the following exceptions: (1) If the input files are real files and end with \u001b[1m.gz\u001b[0m or \u001b[1m.bgz\u001b[0m, they are assumed to be GZIP compressed, or (2) if they end with \u001b[1m.fastq\u001b[0m or \u001b[1m.fq\u001b[0m, they are assumed to be uncompressed, or (3) if the \u001b[1m-Z/--decompress\u001b[0m option is specified then any unrecongized inputs (including standard input) are assumed to be GZIP compressed.\u001b[0m\n",
      "\u001b[1m\u001b[4m\u001b[0m\n",
      "\u001b[1m\u001b[4m\u001b[1m\u001b[4mTHREADS\u001b[0m\u001b[0m\n",
      "\u001b[0m\n",
      "The \u001b[1m--threads\u001b[0m option controls the number of threads used to \u001b[3msearch\u001b[0m the reads. Independently, for single end reads or interleaved paired end reads, a single thread will be used to read each input FASTQ.  For paired end reads across pairs of FASTQs, two threads will be used to read the FASTQs for each end of a pair.  Finally, a single thread will be created for the writer.\u001b[0m\n",
      "\u001b[1m\u001b[4m\u001b[0m\n",
      "\u001b[1m\u001b[4m\u001b[1m\u001b[4mEXIT STATUS\u001b[0m\u001b[0m\n",
      "\u001b[0m\n",
      "The fqgrep utility exits with one of the following values: 0 if one or more lines were selected, 1 if no lines were selected, and >1 if an error occurred.\u001b[0m\n",
      "\n",
      "\u001b[1m\u001b[33mUsage:\u001b[0m \u001b[1m\u001b[34mfqgrep\u001b[0m \u001b[36m[OPTIONS]\u001b[0m \u001b[36m[ARGS]...\u001b[0m\n",
      "\n",
      "\u001b[1m\u001b[33mArguments:\u001b[0m\n",
      "  \u001b[36m[ARGS]...\u001b[0m\n",
      "          The first argument is the pattern to match, with the remaining arguments containing the files to match.  If \u001b[1m-e\u001b[0m is given, then all the arguments are files to match. Use standard input if either no files are given or \u001b[1m-\u001b[0m is given\n",
      "\n",
      "\u001b[1m\u001b[33mOptions:\u001b[0m\n",
      "  \u001b[1m\u001b[34m-t\u001b[0m, \u001b[1m\u001b[34m--threads\u001b[0m\u001b[36m \u001b[0m\u001b[36m<THREADS>\u001b[0m\n",
      "          The number of threads to use for matching reads against pattern.  See the full usage for threads specific to reading and writing\n",
      "          \n",
      "          [default: 1]\n",
      "\n",
      "      \u001b[1m\u001b[34m--color\u001b[0m\u001b[36m \u001b[0m\u001b[36m<COLOR>\u001b[0m\n",
      "          Mark up the matching text.  The possible values of when are “never”, “always” and “auto”\n",
      "          \n",
      "          [default: never]\n",
      "          [possible values: never, always, auto]\n",
      "\n",
      "  \u001b[1m\u001b[34m-c\u001b[0m, \u001b[1m\u001b[34m--count\u001b[0m\n",
      "          Only a count of selected lines is written to standard output\n",
      "\n",
      "  \u001b[1m\u001b[34m-e\u001b[0m, \u001b[1m\u001b[34m--regexp\u001b[0m\u001b[36m \u001b[0m\u001b[36m<REGEXP>\u001b[0m\n",
      "          Specify a pattern used during the search of the input: an input line is selected if it matches any of the specified patterns.  This option is most useful when multiple \u001b[1m-e\u001b[0m options are used to specify multiple patterns\n",
      "\n",
      "  \u001b[1m\u001b[34m-F\u001b[0m, \u001b[1m\u001b[34m--fixed-strings\u001b[0m\n",
      "          Interpret pattern as a set of fixed strings\n",
      "\n",
      "  \u001b[1m\u001b[34m-f\u001b[0m, \u001b[1m\u001b[34m--file\u001b[0m\u001b[36m \u001b[0m\u001b[36m<FILE>\u001b[0m\n",
      "          Read one or more newline separated patterns from file.  Empty pattern lines match every input line.  Newlines are not considered part of a pattern.  If file is empty, nothing is matched\n",
      "\n",
      "  \u001b[1m\u001b[34m-v\u001b[0m\n",
      "          Selected lines are those not matching any of the specified patterns\n",
      "\n",
      "  \u001b[1m\u001b[34m-Z\u001b[0m, \u001b[1m\u001b[34m--decompress\u001b[0m\n",
      "          Assume all unrecognized inputs are GZIP compressed\n",
      "\n",
      "      \u001b[1m\u001b[34m--paired\u001b[0m\n",
      "          Treat the input files as paired.  The number of input files must be a multiple of two, with the first file being R1, second R2, third R1, fourth R2, and so on.  If the pattern matches either R1 or R2, then both R1 and R2 will be output (interleaved).  If the input is standard input, then treat the input as interlaved paired end reads\n",
      "\n",
      "      \u001b[1m\u001b[34m--reverse-complement\u001b[0m\n",
      "          Search the reverse complement for matches\n",
      "\n",
      "      \u001b[1m\u001b[34m--progress\u001b[0m\n",
      "          Write progress information\n",
      "\n",
      "  \u001b[1m\u001b[34m-h\u001b[0m, \u001b[1m\u001b[34m--help\u001b[0m\n",
      "          Print help (see a summary with '-h')\n",
      "\n",
      "  \u001b[1m\u001b[34m-V\u001b[0m, \u001b[1m\u001b[34m--version\u001b[0m\n",
      "          Print version\n"
     ]
    }
   ],
   "source": [
    "!fqgrep --help"
   ]
  },
  {
   "cell_type": "markdown",
   "id": "f30f3e33-c908-46e8-ac7a-9b691fbacaa4",
   "metadata": {},
   "source": [
    "Of course, if really running on command line and not in IPython or a Jupyter Notebook, leave off the exclamation point:\n",
    "\n",
    "```shell\n",
    "fqgrep --help\n",
    "```\n",
    "\n",
    "Basic fqgrep with a sequence, to match a single pattern in a single FASTQ file:"
   ]
  },
  {
   "cell_type": "code",
   "execution_count": 5,
   "id": "57955dd5-50d2-46e0-9249-237fde0af753",
   "metadata": {},
   "outputs": [
    {
     "name": "stdout",
     "output_type": "stream",
     "text": [
      "@SRR12269911.276027\n",
      "ATTATGAAGTGTTCCCAGTGCCACACCGTTGAAAAGGGAGGCAAGCACAAGACTGGGCCAAATCTCCATGGGCTCT\n",
      "+\n",
      "AAAAAEEEEEE/E/EEEEEEEEEEE/AEAAE/EEEE6EEEEEEEEE/E/EE/EA//EAEEEA<EEEE//E</EE/<\n",
      "@SRR12269911.389384\n",
      "ATGAAGTGTTCCCAGTGCCACACCGTTGAAAAGGGAGGAAAGCACAAGACTGGGCCAAATATCCATGGTCTCTTTT\n",
      "+\n",
      "A/AAAEEEEEEEAE/AEAEEEEEEA/EE//AE6EAEEE//A/AE/EEEEEE//E6E//EA/EE/EE/E<EEAEEE/\n",
      "@SRR12269911.415017\n",
      "ATGAAGTGTTCCCAGTGCCACACCGTTGAAAAGGGAGGCAAGCACAAGACTGGGCCAAATCTCCATGGTCTCTTTG\n",
      "+\n",
      "AAA/AEEEEEEAEEEAE/EAE/E<EAAEEA6EEEEAEEEE/AE/EEEEE<AEAEAAEE/AEE6EEEEEA6AEEEE/\n",
      "@SRR12269911.281462\n",
      "GTGCCACACCGTTGAAAAGGGAGGCAAGCACAAGACTGGGCCAAATCTCCATGGTCTCTTTGGGCGGAAGACAGGT\n",
      "+\n",
      "AAAAAEEEEEEEEEAEEEEEEEEEEEEEEEEEEEAEEEEEEEEEEEEEAEAEEEEEEEEEEEEEEEEEEEEEEEEE\n",
      "@SRR12269911.281954\n",
      "GTGCCACACCGTTGAAAAGGGAGGCAAGCACAAGACTGGGCCAAATCTCCATGGTCTCTTTGGGCGGAAGACAGGT\n",
      "+\n",
      "AAAAAEE/EEEEEEEEEEEEEEEEEEEEEEEAEEEEEEEEEEEAEEEAEEEEEE<EEEEEEEAEEEEEE/EEAEEE\n"
     ]
    }
   ],
   "source": [
    "!fqgrep 'ACAAGACTGG' ./demo.fastq"
   ]
  },
  {
   "cell_type": "markdown",
   "id": "41ee9945-0124-4c48-9ac2-2934a346f0e5",
   "metadata": {},
   "source": [
    "fqgrep offes several options. One is that you can use the `--reverse-complement` flag to **also** search the reverse complement for matches."
   ]
  },
  {
   "cell_type": "code",
   "execution_count": 6,
   "id": "381f1dd3-cc57-4d60-bc2c-e3a02e108319",
   "metadata": {},
   "outputs": [
    {
     "name": "stdout",
     "output_type": "stream",
     "text": [
      "@SRR12269911.287580\n",
      "GCCCAGTCTTGTGCTTGACTCCCTTTTCAACGGTGTGGCACTGGGAACACTTCATAATAAAAATCTTCTTGAATTT\n",
      "+\n",
      "6AA/AEE/AAEEEA</A//</EEEE/E/EA//E/<E//AEEA/AEAE<//</E/E//AAA/EE/<AEE/6///EEE\n",
      "@SRR12269911.99617\n",
      "CAAAGAGACCATGGAGATTTGGCCCAGTCTTGTGCTTGCCTCCCCTTTCAACGGTGTGGCACTGGGAACACTTCAT\n",
      "+\n",
      "AAAAAEEEEAEEEEEEEEEEEEEEEEEEEEEEEEEEEEEEEEEAEEEEEEEEEEEEEEEEAEAEEEEEE6EEEEEE\n",
      "@SRR12269911.276027\n",
      "ATTATGAAGTGTTCCCAGTGCCACACCGTTGAAAAGGGAGGCAAGCACAAGACTGGGCCAAATCTCCATGGGCTCT\n",
      "+\n",
      "AAAAAEEEEEE/E/EEEEEEEEEEE/AEAAE/EEEE6EEEEEEEEE/E/EE/EA//EAEEEA<EEEE//E</EE/<\n",
      "@SRR12269911.389384\n",
      "ATGAAGTGTTCCCAGTGCCACACCGTTGAAAAGGGAGGAAAGCACAAGACTGGGCCAAATATCCATGGTCTCTTTT\n",
      "+\n",
      "A/AAAEEEEEEEAE/AEAEEEEEEA/EE//AE6EAEEE//A/AE/EEEEEE//E6E//EA/EE/EE/E<EEAEEE/\n",
      "@SRR12269911.415017\n",
      "ATGAAGTGTTCCCAGTGCCACACCGTTGAAAAGGGAGGCAAGCACAAGACTGGGCCAAATCTCCATGGTCTCTTTG\n",
      "+\n",
      "AAA/AEEEEEEAEEEAE/EAE/E<EAAEEA6EEEEAEEEE/AE/EEEEE<AEAEAAEE/AEE6EEEEEA6AEEEE/\n",
      "@SRR12269911.281462\n",
      "GTGCCACACCGTTGAAAAGGGAGGCAAGCACAAGACTGGGCCAAATCTCCATGGTCTCTTTGGGCGGAAGACAGGT\n",
      "+\n",
      "AAAAAEEEEEEEEEAEEEEEEEEEEEEEEEEEEEAEEEEEEEEEEEEEAEAEEEEEEEEEEEEEEEEEEEEEEEEE\n",
      "@SRR12269911.281954\n",
      "GTGCCACACCGTTGAAAAGGGAGGCAAGCACAAGACTGGGCCAAATCTCCATGGTCTCTTTGGGCGGAAGACAGGT\n",
      "+\n",
      "AAAAAEE/EEEEEEEEEEEEEEEEEEEEEEEAEEEEEEEEEEEAEEEAEEEEEE<EEEEEEEAEEEEEE/EEAEEE\n",
      "@SRR12269911.189365\n",
      "CAGGTGATCCGCCTGCCTCGACCTCCCGAAGTGCTGGGATTACAGGCGTGAGCCACAGTGCCCAGTCTTGTCTGCA\n",
      "+\n",
      "AAAAAEEEEEEEEEEEE6EE6EEEEEEEEEEEEEEEEEEEEEEEEEEEEEAEEEEEAEEEEEEAEEEAEEEEEEEE\n"
     ]
    }
   ],
   "source": [
    "!fqgrep --reverse-complement 'ACAAGACTGG' ./demo.fastq"
   ]
  },
  {
   "cell_type": "markdown",
   "id": "7a6dafc3-f20c-40dc-9720-b1b6bf1cc024",
   "metadata": {},
   "source": [
    "Note that in addition to five results seen without the `--reverse-complement` flag, an additional three, the first two and last one -- `@SRR12269911.287580` , `@SRR12269911.99617`, and `@SRR12269911.189365`--, are **seen with the flag**.\n",
    "\n",
    "Note that [patmatch](https://github.com/fomightez/patmatch-binder#patmatch-binder) can also give you the reverse complement match. There you use `-c` flag. Unlike fqgrep though, patmatch can also handle matches with mismatches by setting numbers of insertions, deletions, and substitutions allowed.\n",
    "\n",
    "For being able to tell where the match occurs, the `--color` flag is really nice."
   ]
  },
  {
   "cell_type": "code",
   "execution_count": 7,
   "id": "4cd0d442-704a-4bd6-8a7c-f4be417abdca",
   "metadata": {},
   "outputs": [
    {
     "name": "stdout",
     "output_type": "stream",
     "text": [
      "@\u001b[38;5;30mSRR12269911.287580\u001b[0m\n",
      "\u001b[38;5;240mGC\u001b[0m\u001b[31mCCAGTCTTGT\u001b[0m\u001b[38;5;240mGCTTGACTCCCTTTTCAACGGTGTGGCACTGGGAACACTTCATAATAAAAATCTTCTTGAATTT\u001b[0m\n",
      "+\n",
      "\u001b[38;5;240m6A\u001b[0m\u001b[38;5;22mA/AEE/AAEE\u001b[0m\u001b[38;5;240mEA</A//</EEEE/E/EA//E/<E//AEEA/AEAE<//</E/E//AAA/EE/<AEE/6///EEE\u001b[0m\n",
      "@\u001b[38;5;30mSRR12269911.99617\u001b[0m\n",
      "\u001b[38;5;240mCAAAGAGACCATGGAGATTTGGC\u001b[0m\u001b[31mCCAGTCTTGT\u001b[0m\u001b[38;5;240mGCTTGCCTCCCCTTTCAACGGTGTGGCACTGGGAACACTTCAT\u001b[0m\n",
      "+\n",
      "\u001b[38;5;240mAAAAAEEEEAEEEEEEEEEEEEE\u001b[0m\u001b[38;5;22mEEEEEEEEEE\u001b[0m\u001b[38;5;240mEEEEEEEEEEAEEEEEEEEEEEEEEEEAEAEEEEEE6EEEEEE\u001b[0m\n",
      "@\u001b[38;5;30mSRR12269911.276027\u001b[0m\n",
      "\u001b[38;5;240mATTATGAAGTGTTCCCAGTGCCACACCGTTGAAAAGGGAGGCAAGC\u001b[0m\u001b[31mACAAGACTGG\u001b[0m\u001b[38;5;240mGCCAAATCTCCATGGGCTCT\u001b[0m\n",
      "+\n",
      "\u001b[38;5;240mAAAAAEEEEEE/E/EEEEEEEEEEE/AEAAE/EEEE6EEEEEEEEE\u001b[0m\u001b[38;5;22m/E/EE/EA//\u001b[0m\u001b[38;5;240mEAEEEA<EEEE//E</EE/<\u001b[0m\n",
      "@\u001b[38;5;30mSRR12269911.389384\u001b[0m\n",
      "\u001b[38;5;240mATGAAGTGTTCCCAGTGCCACACCGTTGAAAAGGGAGGAAAGC\u001b[0m\u001b[31mACAAGACTGG\u001b[0m\u001b[38;5;240mGCCAAATATCCATGGTCTCTTTT\u001b[0m\n",
      "+\n",
      "\u001b[38;5;240mA/AAAEEEEEEEAE/AEAEEEEEEA/EE//AE6EAEEE//A/A\u001b[0m\u001b[38;5;22mE/EEEEEE//\u001b[0m\u001b[38;5;240mE6E//EA/EE/EE/E<EEAEEE/\u001b[0m\n",
      "@\u001b[38;5;30mSRR12269911.415017\u001b[0m\n",
      "\u001b[38;5;240mATGAAGTGTTCCCAGTGCCACACCGTTGAAAAGGGAGGCAAGC\u001b[0m\u001b[31mACAAGACTGG\u001b[0m\u001b[38;5;240mGCCAAATCTCCATGGTCTCTTTG\u001b[0m\n",
      "+\n",
      "\u001b[38;5;240mAAA/AEEEEEEAEEEAE/EAE/E<EAAEEA6EEEEAEEEE/AE\u001b[0m\u001b[38;5;22m/EEEEE<AEA\u001b[0m\u001b[38;5;240mEAAEE/AEE6EEEEEA6AEEEE/\u001b[0m\n",
      "@\u001b[38;5;30mSRR12269911.281462\u001b[0m\n",
      "\u001b[38;5;240mGTGCCACACCGTTGAAAAGGGAGGCAAGC\u001b[0m\u001b[31mACAAGACTGG\u001b[0m\u001b[38;5;240mGCCAAATCTCCATGGTCTCTTTGGGCGGAAGACAGGT\u001b[0m\n",
      "+\n",
      "\u001b[38;5;240mAAAAAEEEEEEEEEAEEEEEEEEEEEEEE\u001b[0m\u001b[38;5;22mEEEEEAEEEE\u001b[0m\u001b[38;5;240mEEEEEEEEEAEAEEEEEEEEEEEEEEEEEEEEEEEEE\u001b[0m\n",
      "@\u001b[38;5;30mSRR12269911.281954\u001b[0m\n",
      "\u001b[38;5;240mGTGCCACACCGTTGAAAAGGGAGGCAAGC\u001b[0m\u001b[31mACAAGACTGG\u001b[0m\u001b[38;5;240mGCCAAATCTCCATGGTCTCTTTGGGCGGAAGACAGGT\u001b[0m\n",
      "+\n",
      "\u001b[38;5;240mAAAAAEE/EEEEEEEEEEEEEEEEEEEEE\u001b[0m\u001b[38;5;22mEEAEEEEEEE\u001b[0m\u001b[38;5;240mEEEEAEEEAEEEEEE<EEEEEEEAEEEEEE/EEAEEE\u001b[0m\n",
      "@\u001b[38;5;30mSRR12269911.189365\u001b[0m\n",
      "\u001b[38;5;240mCAGGTGATCCGCCTGCCTCGACCTCCCGAAGTGCTGGGATTACAGGCGTGAGCCACAGTGC\u001b[0m\u001b[31mCCAGTCTTGT\u001b[0m\u001b[38;5;240mCTGCA\u001b[0m\n",
      "+\n",
      "\u001b[38;5;240mAAAAAEEEEEEEEEEEE6EE6EEEEEEEEEEEEEEEEEEEEEEEEEEEEEAEEEEEAEEEE\u001b[0m\u001b[38;5;22mEEAEEEAEEE\u001b[0m\u001b[38;5;240mEEEEE\u001b[0m\n"
     ]
    }
   ],
   "source": [
    "!fqgrep --reverse-complement --color auto 'ACAAGACTGG' ./demo.fastq"
   ]
  },
  {
   "cell_type": "markdown",
   "id": "db8ff481-1da1-45ac-947f-4cae3fb2a482",
   "metadata": {},
   "source": [
    "The difference in the settings seems to be that `auto` turns off the export of the color if you send it to file because you probably don't want the special codes in there that make it possible to specify the color. That is because you are probably using the output for downstream use. If you are just using it for visualization though, you can opt to keep the color syntax code. This will be demonstrated below in the course of demonstrating combining with Python and convenient Jupyter abilities.\n",
    "\n",
    "----\n",
    "\n",
    "### Combine with Python / Jupyter Conveniences\n",
    "\n",
    "Of course, when running in Jupyter with an ipykernel, fqgrep use can be combined in code to take advantage of Python variables and additional available Jupyter conveniences, like so for instance:"
   ]
  },
  {
   "cell_type": "code",
   "execution_count": 8,
   "id": "71cc23de-24a9-4105-a2a9-0e7e33b5cb67",
   "metadata": {},
   "outputs": [
    {
     "name": "stdout",
     "output_type": "stream",
     "text": [
      "@\u001b[38;5;30mSRR12269911.51990\u001b[0m\n",
      "\u001b[38;5;240mCCTCAAGTGGGTCCCTGACCCACAAGTAGCTTAACTGG\u001b[0m\u001b[31mGAGGCAAC\u001b[0m\u001b[38;5;240mCCCCAGTAGGGGCAGACTGACACCTCACAC\u001b[0m\n",
      "+\n",
      "\u001b[38;5;240mAAAAAEEEEEEEEEEEEEEEEEEEEEEAEEEEEEEEEE\u001b[0m\u001b[38;5;22mE6EEE//E\u001b[0m\u001b[38;5;240mEEEEEEAEEEEEE/EAEAE/E6EEE</E/E\u001b[0m\n",
      "@\u001b[38;5;30mSRR12269911.195627\u001b[0m\n",
      "\u001b[38;5;240mCCTGATAAGATCTCAGGAGTTGGGTGAGTGGGCTCAAGCATGTGCACTAA\u001b[0m\u001b[31mGAGGCAAC\u001b[0m\u001b[38;5;240mATGGCAGAGTTTAAGTGG\u001b[0m\n",
      "+\n",
      "\u001b[38;5;240mAA6AAEA6EEEEEEEEEEEEEEEEEEEEEEEEEEEEEEEEEEEEEE/EA/\u001b[0m\u001b[38;5;22mEEEEEE/E\u001b[0m\u001b[38;5;240mEEEEE/EEAEEE/EAEEA\u001b[0m\n",
      "@\u001b[38;5;30mSRR12269911.374754\u001b[0m\n",
      "\u001b[38;5;240mGTTAACCTCACTCCACGTGTGTCTGTGTCCTTAATTTCCTTGGCAT\u001b[0m\u001b[31mGAGGCAAC\u001b[0m\u001b[38;5;240mGAATCTCGGGTATTACCCCAGA\u001b[0m\n",
      "+\n",
      "\u001b[38;5;240mAAAAAEEEEEEEEEEEEEEEEEEEEEEEEEEEAEEEEEEEEEEEEE\u001b[0m\u001b[38;5;22mEEEEEEEE\u001b[0m\u001b[38;5;240mAEAEAEAEEEEAEEEEEAEEEE\u001b[0m\n",
      "@\u001b[38;5;30mSRR12269911.158183\u001b[0m\n",
      "\u001b[38;5;240mCTGTAATCCCAGCACTTTGGAAGGCTGAGGTGAGAGGATCACTTGAGCCCAGTAGTTT\u001b[0m\u001b[31mGAGGCAAC\u001b[0m\u001b[38;5;240mATAGTGAGAT\u001b[0m\n",
      "+\n",
      "\u001b[38;5;240mAAAAAEEEEEEEEEEAEEEEEEEEEAEEEEEEEEEEEEEEEEEEEEEEAAEEEEEAAE\u001b[0m\u001b[38;5;22mEEEEEEEE\u001b[0m\u001b[38;5;240mEEEEEEEEEE\u001b[0m\n",
      "@\u001b[38;5;30mSRR12269911.258882\u001b[0m\n",
      "\u001b[38;5;240mATGTGACTGGAGTGAGCAGGGGA\u001b[0m\u001b[31mGAGGCAAC\u001b[0m\u001b[38;5;240mCAACTCAGGAGTCAGATCCCTGGCCAGACTAAAAGCGAACATTCA\u001b[0m\n",
      "+\n",
      "\u001b[38;5;240mAAAAAEEEEEEEEEEEEEEEEEE\u001b[0m\u001b[38;5;22mEEEEEE/E\u001b[0m\u001b[38;5;240mEEAEEEEEEEEEEEE/EEEEEEEEAEEEEE/EE/EEEEEAEEEE<\u001b[0m\n",
      "@\u001b[38;5;30mSRR12269911.24121\u001b[0m\n",
      "\u001b[38;5;240mGCTCA\u001b[0m\u001b[31mGAGGCAAC\u001b[0m\u001b[38;5;240mTTCCTCTTCCCTTGAACTCCGGATCAGCCTTTCCAGGTGCTTTAGTCGTTCGCCTAGACACGT\u001b[0m\n",
      "+\n",
      "\u001b[38;5;240mAAAAA\u001b[0m\u001b[38;5;22mEEEEEEAE\u001b[0m\u001b[38;5;240mEEAEEEAEEEE<EEEEEEEEE/EAEEEEEEE<<E/EEEEEEEEEEEEE/EEAEEEA/AEAE/6\u001b[0m\n"
     ]
    }
   ],
   "source": [
    "my_seq = \"GAGGCAAC\"\n",
    "!fqgrep --color auto '{my_seq}' ./demo.fastq"
   ]
  },
  {
   "cell_type": "markdown",
   "id": "710628bc-c4e8-4093-a63b-3a938cee80cc",
   "metadata": {},
   "source": [
    "The ability that offers starts to touch on why you'd want to combine like that.\n",
    "For example, imagine if you had several sequences to search.    \n",
    "Well you can use something like:\n",
    "\n",
    "```\n",
    "!fqgrep --regexp 'GCGATTAA' --regexp 'GACATTAA' ./demo.fastq\n",
    "```\n",
    "\n",
    "But imagine for downstream use, it was important you knew which was derived from each sequence.  \n",
    "So you could do this:"
   ]
  },
  {
   "cell_type": "code",
   "execution_count": 9,
   "id": "acb78541-5c9e-443a-9df6-30ff07ecd900",
   "metadata": {},
   "outputs": [],
   "source": [
    "my_seq1 = \"GCGATTAA\"\n",
    "my_seq2 = \"GACATTAA\"\n",
    "seq_list = [my_seq1,my_seq2]\n",
    "for the_seq in seq_list:\n",
    "    !fqgrep --color always '{the_seq}' ./demo.fastq > {the_seq}_search_results.txt"
   ]
  },
  {
   "cell_type": "markdown",
   "id": "68504801-b01e-4000-a17d-257adbc8e751",
   "metadata": {},
   "source": [
    "Now to look at the results:"
   ]
  },
  {
   "cell_type": "code",
   "execution_count": 10,
   "id": "46d4a148-1286-4b28-90e2-a370b176fac1",
   "metadata": {},
   "outputs": [
    {
     "name": "stdout",
     "output_type": "stream",
     "text": [
      "@\u001b[38;5;30mSRR12269911.77594\u001b[0m\n",
      "\u001b[38;5;240mATATCAGGTTGCAGCGGCAGAGAGCCATCCTCTATAAGCGGCTGAAAGTGCCTCCT\u001b[0m\u001b[31mGCGATTAA\u001b[0m\u001b[38;5;240mCCAGTTCACCCA\u001b[0m\n",
      "+\n",
      "\u001b[38;5;240mAAAAAEEEEEEEEEEEEEEEEEEEEEAEEEEEEEEEAEEEEEEEEEEEEEEEEEEE\u001b[0m\u001b[38;5;22mEEEEEEEE\u001b[0m\u001b[38;5;240mEEEEEEEEAEE/\u001b[0m\n",
      "@\u001b[38;5;30mSRR12269911.248887\u001b[0m\n",
      "\u001b[38;5;240mATATCAGGTTGCAGCGGCAGAGAGCCATCCTCTATAAGCGGCTGAAAGTGCCTCCT\u001b[0m\u001b[31mGCGATTAA\u001b[0m\u001b[38;5;240mCCAGTTCACCCA\u001b[0m\n",
      "+\n",
      "\u001b[38;5;240mAAAAAEEEEEEEEEEEEEAEEEEEEE/EEEEEEEEEEEEEEEEEEEEEEEEEEEEE\u001b[0m\u001b[38;5;22mEEEEEEEE\u001b[0m\u001b[38;5;240mEEEEAEEAEEE<\u001b[0m\n"
     ]
    }
   ],
   "source": [
    "!cat GCGATTAA_search_results.txt"
   ]
  },
  {
   "cell_type": "code",
   "execution_count": 11,
   "id": "304672d2-2f12-42d8-b480-19517baf7723",
   "metadata": {},
   "outputs": [
    {
     "name": "stdout",
     "output_type": "stream",
     "text": [
      "@\u001b[38;5;30mSRR12269911.223267\u001b[0m\n",
      "\u001b[38;5;240mCCCGTACACTGTGCTTGGACAAATACCTGCTAGTGCTGCTTGGTTCACATGCTTG\u001b[0m\u001b[31mGACATTAA\u001b[0m\u001b[38;5;240mAGATGCATTCTTC\u001b[0m\n",
      "+\n",
      "\u001b[38;5;240mAAAAAEEEEEEEEEAEEE/EEEEE/EEEEEEEEEEEEEEE6EEEEEAEEEEEEEE\u001b[0m\u001b[38;5;22mEEAAEE6E\u001b[0m\u001b[38;5;240m/EEAEEEEEA<E<\u001b[0m\n",
      "@\u001b[38;5;30mSRR12269911.98049\u001b[0m\n",
      "\u001b[38;5;240mCAGAAACTGGTTTGGACTAAGAAAGCCAGAGTGCAGAATCTGGATGAGGTGAAACC\u001b[0m\u001b[31mGACATTAA\u001b[0m\u001b[38;5;240mTAAACCTCCAAG\u001b[0m\n",
      "+\n",
      "\u001b[38;5;240mAAAAAEEEEEEEEEEEEEEEEAEEEEEAEEEEEEEEEEEEEEEEEEEEEEEEEAEE\u001b[0m\u001b[38;5;22mE/EEEEEE\u001b[0m\u001b[38;5;240mEEEEEEEEEEEE\u001b[0m\n",
      "@\u001b[38;5;30mSRR12269911.396878\u001b[0m\n",
      "\u001b[38;5;240mCCT\u001b[0m\u001b[31mGACATTAA\u001b[0m\u001b[38;5;240mATAAAACTCCAAAAATTAAATTCTGGCCCTCAAACCCCACAACAGGACTTAATTAACCCTGTCTC\u001b[0m\n",
      "+\n",
      "\u001b[38;5;240mAAA\u001b[0m\u001b[38;5;22mAAE6EE6E\u001b[0m\u001b[38;5;240mEEEEEEEEEEEEEEEEEAEEEEEEEEEEEEEAE/EEEEEEEEEEEEEEEEEEEEEEEEEEEEEEA\u001b[0m\n",
      "@\u001b[38;5;30mSRR12269911.373844\u001b[0m\n",
      "\u001b[38;5;240mAGACTTTTCTTTGAAGGATGACTACA\u001b[0m\u001b[31mGACATTAA\u001b[0m\u001b[38;5;240mATAATCGAAGTAATTTTGGGTGGGGAGAAGAGGCAGATTCAA\u001b[0m\n",
      "+\n",
      "\u001b[38;5;240mAAAAAEEEE/E/EEE/EEEE/EEEEA\u001b[0m\u001b[38;5;22mEEAE/EEE\u001b[0m\u001b[38;5;240mAEEEEEEAEEEAEE/E/AEEEEEAEEAE/AAEEEEAEEE</E\u001b[0m\n",
      "@\u001b[38;5;30mSRR12269911.293306\u001b[0m\n",
      "\u001b[38;5;240mAAATAACCCCGGGCAAGACTTTTCTTTGAAGGATGACTACA\u001b[0m\u001b[31mGACATTAA\u001b[0m\u001b[38;5;240mATAATCGAAGTAATTTTGGGTGGGGAG\u001b[0m\n",
      "+\n",
      "\u001b[38;5;240mAAAAAEEEEEEEEEEEEEEEEEEEEEEEAEEEEEEEEEEEE\u001b[0m\u001b[38;5;22mEEEEEEEA\u001b[0m\u001b[38;5;240mEEEEEEEEEEEEEEEEEEEEAEEEEEE\u001b[0m\n",
      "@\u001b[38;5;30mSRR12269911.176846\u001b[0m\n",
      "\u001b[38;5;240mGTATTACATAAATAAATTAAATAAAATAACCCCGGGCAAGACTTTTCTTTGAAGGATGACTACA\u001b[0m\u001b[31mGACATTAA\u001b[0m\u001b[38;5;240mATAA\u001b[0m\n",
      "+\n",
      "\u001b[38;5;240mAAAAAEAEEAEEE6EEEEEEEEEEEEEE6A<<EEE/AEEEEEEEEEEEAEEAEEEEA<EEEA6<\u001b[0m\u001b[38;5;22mEEAEEEEA\u001b[0m\u001b[38;5;240mEEA6\u001b[0m\n",
      "@\u001b[38;5;30mSRR12269911.177060\u001b[0m\n",
      "\u001b[38;5;240mGTTCTGTACAGATATAT\u001b[0m\u001b[31mGACATTAA\u001b[0m\u001b[38;5;240mAAAATAATCCCAAAAACTTCTTCTCTAAGGTTAATAAAAGGTCGGCAGTTT\u001b[0m\n",
      "+\n",
      "\u001b[38;5;240mAAAAAEEEEEEEEEEEE\u001b[0m\u001b[38;5;22mEEEEEEEE\u001b[0m\u001b[38;5;240mEEEEEEEEEEEEEEEEEEEEEEEAEEEEEEEEAEEAEEEEEEEEEEEEEEE\u001b[0m\n",
      "@\u001b[38;5;30mSRR12269911.23735\u001b[0m\n",
      "\u001b[38;5;240mGTACAGATATAT\u001b[0m\u001b[31mGACATTAA\u001b[0m\u001b[38;5;240mAAAATAATCCCAAAAACTTCTTCTCTAAGGTTAATAAAAGGTCGGCAGTTTTGATC\u001b[0m\n",
      "+\n",
      "\u001b[38;5;240mAAAAAEEEEEE6\u001b[0m\u001b[38;5;22mEEEEEEEE\u001b[0m\u001b[38;5;240mE/EEEEEEEEEEEEEEEEEEEEEEEEEEEEEAEEEEEAEEEEEEEEEEEEEEEAEE\u001b[0m\n",
      "@\u001b[38;5;30mSRR12269911.188120\u001b[0m\n",
      "\u001b[38;5;240mAAAAAACAACATGGTAATAGAAGTAATTTAAAATGTTCAA\u001b[0m\u001b[31mGACATTAA\u001b[0m\u001b[38;5;240mATGCAGGACTGACTCCATATTGCCATTT\u001b[0m\n",
      "+\n",
      "\u001b[38;5;240mAAAAAEEEEEEEEEE6EEAEEEEEAEEEEEEEEEEEEEEE\u001b[0m\u001b[38;5;22mEEEEEEEE\u001b[0m\u001b[38;5;240mEEEEEEEEEEEEEEEEEAEEEEEEEEEA\u001b[0m\n",
      "@\u001b[38;5;30mSRR12269911.254078\u001b[0m\n",
      "\u001b[38;5;240mATGTTCAA\u001b[0m\u001b[31mGACATTAA\u001b[0m\u001b[38;5;240mATGCAGGACTGACTCCATATTGCCATTTAATATGCTTTGTATTATAGGATATAAAAACTA\u001b[0m\n",
      "+\n",
      "\u001b[38;5;240mAAAAAEEE\u001b[0m\u001b[38;5;22mEAEEEEEE\u001b[0m\u001b[38;5;240mEEEEEEEEEEEEEEEEEAEEEEEEEEEEEEEEEEEEAEEEEAEAEAEEEEAEEAEEAEEA\u001b[0m\n"
     ]
    }
   ],
   "source": [
    "!cat GACATTAA_search_results.txt"
   ]
  },
  {
   "cell_type": "markdown",
   "id": "ec5c044d-e818-4efc-83f6-1e09f5550e50",
   "metadata": {},
   "source": [
    "`GCGATTAA_search_results.txt` only has two matches, and it would have been hard to find if we mixed them in.\n",
    "\n",
    "Of course, we could have just ran the searches in turn; however, imagine instead of two sequences, we had ten to search, and then quickly it becomes apparent how much convenience this offers.\n",
    "\n",
    "Note that in the course of demonstrating integrating Python and Jupyter conveniences, we used  `--color always` instead of `--color auto` because even though we were sending the output to a file, we were only planning to visualize it and so we wanted to color coding included. In most cases when sending to file, you'd want `--color auto` as touched upon when introducing the `--color` flag. Otherwise the color codes will be in there as you can see if you right-click on the file `GCGATTAA_search_results.txt` in the file browser pane on the left and open it."
   ]
  },
  {
   "cell_type": "markdown",
   "id": "a6dd609d-86b7-4466-a72f-e2ede7c55869",
   "metadata": {},
   "source": [
    "### Regular Expressions as the Pattern\n",
    "\n",
    "Can use regular expressions.  \n",
    "The next two cells will show that. The code only differs by the additon of a `?` and the regular expressions options flag:"
   ]
  },
  {
   "cell_type": "code",
   "execution_count": 12,
   "id": "f0583340-f1fc-4adb-a5b0-2bfadd0a0535",
   "metadata": {},
   "outputs": [
    {
     "name": "stdout",
     "output_type": "stream",
     "text": [
      "@SRR12269911.288516\n",
      "AGTCTAGAGTGTTTGCTTTATTCATGTTGTTTATGCGTTAAAATATAAGCATATTGCATACATAAGCATATTTACA\n",
      "+\n",
      "AAAAAAEEEEEEAEEEEEEEEEEEEEEEEEEEEEEAEEEAEEEEEEEEE<EEEEEEEEEEEEEEEE<EEEEEEEE/\n",
      "@SRR12269911.398076\n",
      "AGTCTAGAGTGTTTGCTTTATTCATGTTGTTTATGCGTTAAAATATAAGCATATTGCATACATAAGCATATTTACA\n",
      "+\n",
      "A/A/AAEEEEEAAAEEEEEEEE/E///AA/AEEEEEE/EEAE/EEEE/E<EEEEE/<E/AEEEEEA/EE///<A//\n",
      "@SRR12269911.77594\n",
      "ATATCAGGTTGCAGCGGCAGAGAGCCATCCTCTATAAGCGGCTGAAAGTGCCTCCTGCGATTAACCAGTTCACCCA\n",
      "+\n",
      "AAAAAEEEEEEEEEEEEEEEEEEEEEAEEEEEEEEEAEEEEEEEEEEEEEEEEEEEEEEEEEEEEEEEEEEEAEE/\n",
      "@SRR12269911.248887\n",
      "ATATCAGGTTGCAGCGGCAGAGAGCCATCCTCTATAAGCGGCTGAAAGTGCCTCCTGCGATTAACCAGTTCACCCA\n",
      "+\n",
      "AAAAAEEEEEEEEEEEEEAEEEEEEE/EEEEEEEEEEEEEEEEEEEEEEEEEEEEEEEEEEEEEEEEEAEEAEEE<\n"
     ]
    }
   ],
   "source": [
    "!fqgrep --color never --regexp 'GCGA?TTAA' ./demo.fastq"
   ]
  },
  {
   "cell_type": "code",
   "execution_count": 13,
   "id": "37213b20-8281-407f-b8b2-dc35bed1ee86",
   "metadata": {},
   "outputs": [
    {
     "name": "stdout",
     "output_type": "stream",
     "text": [
      "@\u001b[38;5;30mSRR12269911.77594\u001b[0m\n",
      "\u001b[38;5;240mATATCAGGTTGCAGCGGCAGAGAGCCATCCTCTATAAGCGGCTGAAAGTGCCTCCT\u001b[0m\u001b[31mGCGATTAA\u001b[0m\u001b[38;5;240mCCAGTTCACCCA\u001b[0m\n",
      "+\n",
      "\u001b[38;5;240mAAAAAEEEEEEEEEEEEEEEEEEEEEAEEEEEEEEEAEEEEEEEEEEEEEEEEEEE\u001b[0m\u001b[38;5;22mEEEEEEEE\u001b[0m\u001b[38;5;240mEEEEEEEEAEE/\u001b[0m\n",
      "@\u001b[38;5;30mSRR12269911.248887\u001b[0m\n",
      "\u001b[38;5;240mATATCAGGTTGCAGCGGCAGAGAGCCATCCTCTATAAGCGGCTGAAAGTGCCTCCT\u001b[0m\u001b[31mGCGATTAA\u001b[0m\u001b[38;5;240mCCAGTTCACCCA\u001b[0m\n",
      "+\n",
      "\u001b[38;5;240mAAAAAEEEEEEEEEEEEEAEEEEEEE/EEEEEEEEEEEEEEEEEEEEEEEEEEEEE\u001b[0m\u001b[38;5;22mEEEEEEEE\u001b[0m\u001b[38;5;240mEEEEAEEAEEE<\u001b[0m\n"
     ]
    }
   ],
   "source": [
    "!fqgrep --color auto 'GCGATTAA' ./demo.fastq"
   ]
  },
  {
   "cell_type": "markdown",
   "id": "fad37795-f206-40d4-9ee8-4c7d7285c576",
   "metadata": {},
   "source": [
    "See the difference?  \n",
    "`--regexp 'GCGA?TTAA'` allows matches to `GCGTTAA` or `GCGATTAA`."
   ]
  },
  {
   "cell_type": "markdown",
   "id": "2586663f-b2cb-48b5-9cf1-f3a8c91a6644",
   "metadata": {},
   "source": [
    "------\n",
    "\n",
    "Enjoy!"
   ]
  }
 ],
 "metadata": {
  "kernelspec": {
   "display_name": "Python 3 (ipykernel)",
   "language": "python",
   "name": "python3"
  },
  "language_info": {
   "codemirror_mode": {
    "name": "ipython",
    "version": 3
   },
   "file_extension": ".py",
   "mimetype": "text/x-python",
   "name": "python",
   "nbconvert_exporter": "python",
   "pygments_lexer": "ipython3",
   "version": "3.10.19"
  }
 },
 "nbformat": 4,
 "nbformat_minor": 5
}
